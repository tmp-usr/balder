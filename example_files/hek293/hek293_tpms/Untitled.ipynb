{
 "cells": [
  {
   "cell_type": "code",
   "execution_count": 1,
   "metadata": {
    "collapsed": true
   },
   "outputs": [],
   "source": [
    "import glob\n",
    "from pandas import *"
   ]
  },
  {
   "cell_type": "code",
   "execution_count": 2,
   "metadata": {
    "collapsed": true
   },
   "outputs": [],
   "source": [
    "import os,sys"
   ]
  },
  {
   "cell_type": "code",
   "execution_count": 3,
   "metadata": {
    "collapsed": true
   },
   "outputs": [],
   "source": [
    "dirs= glob.glob('*')"
   ]
  },
  {
   "cell_type": "code",
   "execution_count": 4,
   "metadata": {
    "collapsed": true
   },
   "outputs": [],
   "source": [
    "import pdb\n",
    "import operator"
   ]
  },
  {
   "cell_type": "code",
   "execution_count": 5,
   "metadata": {
    "collapsed": false
   },
   "outputs": [
    {
     "name": "stdout",
     "output_type": "stream",
     "text": [
      "File Untitled.ipynb/rnaseq.Untitled.ipynb.genes.txt does not exist\n"
     ]
    }
   ],
   "source": [
    "tpms= []\n",
    "\n",
    "for dirname in dirs:\n",
    "    sample_name= dirname.lstrip(\"outputs_\")\n",
    "    tpm_file= os.path.join(dirname, \"rnaseq.%s.genes.txt\" %sample_name)\n",
    "    try:\n",
    "    \n",
    "        df= read_csv(tpm_file, sep=\"\\t\", names= [\"genes\", sample_name])\n",
    "\n",
    "        #df=df.set_index('genes', drop= True)\n",
    "\n",
    "        #pdb.set_trace()\n",
    "\n",
    "        #df.index= apply( df.index , str.split('.'))\n",
    "\n",
    "        indexes= df['genes']\n",
    "        indexes_1= indexes.apply(str.split, args= ('.'))\n",
    "        indexes_2= [i[0] for i in indexes_1]\n",
    "\n",
    "        df['genes']= indexes_2\n",
    "\n",
    "        df= df.groupby('genes').sum()\n",
    "\n",
    "        #pdb.set_trace()\n",
    "        #df= df.set_index(\"genes\", drop= \"True\")\n",
    "\n",
    "        tpms.append(df)\n",
    "    #print sample_name\n",
    "    #print df.head()\n",
    "    except Exception, e:\n",
    "        print e"
   ]
  },
  {
   "cell_type": "code",
   "execution_count": 6,
   "metadata": {
    "collapsed": false
   },
   "outputs": [],
   "source": [
    "#tpms[0].index\n",
    "df_tpms= concat(tpms, axis= 1, join= \"outer\")"
   ]
  },
  {
   "cell_type": "code",
   "execution_count": 7,
   "metadata": {
    "collapsed": true
   },
   "outputs": [],
   "source": [
    "import math\n",
    "import numpy as np"
   ]
  },
  {
   "cell_type": "code",
   "execution_count": 49,
   "metadata": {
    "collapsed": false
   },
   "outputs": [],
   "source": [
    "final_counts= np.ceil(df_tpms).astype(int)"
   ]
  },
  {
   "cell_type": "code",
   "execution_count": 50,
   "metadata": {
    "collapsed": false
   },
   "outputs": [],
   "source": [
    "final_counts.columns = [\"X\"+item for item in final_counts.columns]"
   ]
  },
  {
   "cell_type": "code",
   "execution_count": 51,
   "metadata": {
    "collapsed": false
   },
   "outputs": [
    {
     "data": {
      "text/plain": [
       "Index([u'X293_E__1', u'X293_E__2', u'X293_E__3', u'X293_F__1', u'X293_F__2',\n",
       "       u'X293_F__3', u'X293_H__1', u'X293_H__2', u'X293_H__3', u'X293_T__1',\n",
       "       u'X293_T__2', u'X293_T__3', u'XFreestyle293__1', u'XFreestyle293__2',\n",
       "       u'XFreestyle293__3', u'XHEK293__1', u'XHEK293__2', u'XHEK293__3'],\n",
       "      dtype='object')"
      ]
     },
     "execution_count": 51,
     "metadata": {},
     "output_type": "execute_result"
    }
   ],
   "source": [
    "final_counts.columns"
   ]
  },
  {
   "cell_type": "code",
   "execution_count": 52,
   "metadata": {
    "collapsed": false
   },
   "outputs": [],
   "source": [
    "sample_types=  [item.split('__')[0] for item in final_counts.columns]"
   ]
  },
  {
   "cell_type": "code",
   "execution_count": 54,
   "metadata": {
    "collapsed": false
   },
   "outputs": [],
   "source": [
    "sample_types = set(sample_types)"
   ]
  },
  {
   "cell_type": "code",
   "execution_count": 55,
   "metadata": {
    "collapsed": false
   },
   "outputs": [
    {
     "name": "stdout",
     "output_type": "stream",
     "text": [
      "X293_T X293_E\n",
      "X293_T X293_F\n",
      "X293_T XFreestyle293\n",
      "X293_T X293_H\n",
      "X293_T XHEK293\n",
      "X293_E X293_F\n",
      "X293_E XFreestyle293\n",
      "X293_E X293_H\n",
      "X293_E XHEK293\n",
      "X293_F XFreestyle293\n",
      "X293_F X293_H\n",
      "X293_F XHEK293\n",
      "XFreestyle293 X293_H\n",
      "XFreestyle293 XHEK293\n",
      "X293_H XHEK293\n"
     ]
    }
   ],
   "source": [
    "for x,y in combinations(sample_types, 2):\n",
    "    print x, y"
   ]
  },
  {
   "cell_type": "code",
   "execution_count": 38,
   "metadata": {
    "collapsed": false
   },
   "outputs": [],
   "source": [
    "final_counts.to_csv(\"cell_line_counts.tsv\", sep=\"\\t\", index_label= \"genes\")"
   ]
  },
  {
   "cell_type": "code",
   "execution_count": null,
   "metadata": {
    "collapsed": true
   },
   "outputs": [],
   "source": [
    "final_counts.to_csv(\"cell_line_counts.tsv\", sep=\"\\t\", index_label= \"genes\")"
   ]
  },
  {
   "cell_type": "code",
   "execution_count": 28,
   "metadata": {
    "collapsed": true
   },
   "outputs": [],
   "source": [
    "from itertools import combinations"
   ]
  },
  {
   "cell_type": "code",
   "execution_count": 42,
   "metadata": {
    "collapsed": true
   },
   "outputs": [],
   "source": [
    "sample_type_list= list(set(sample_types))"
   ]
  },
  {
   "cell_type": "code",
   "execution_count": 43,
   "metadata": {
    "collapsed": false
   },
   "outputs": [
    {
     "data": {
      "text/plain": [
       "['Freestyle293', '293_H', '293_F', '293_E', 'HEK293', '293_T']"
      ]
     },
     "execution_count": 43,
     "metadata": {},
     "output_type": "execute_result"
    }
   ],
   "source": [
    "sample_type_list"
   ]
  },
  {
   "cell_type": "code",
   "execution_count": 44,
   "metadata": {
    "collapsed": false
   },
   "outputs": [
    {
     "name": "stdout",
     "output_type": "stream",
     "text": [
      "Freestyle293 293_H\n",
      "Freestyle293 293_F\n",
      "Freestyle293 293_E\n",
      "Freestyle293 HEK293\n",
      "Freestyle293 293_T\n",
      "293_H 293_F\n",
      "293_H 293_E\n",
      "293_H HEK293\n",
      "293_H 293_T\n",
      "293_F 293_E\n",
      "293_F HEK293\n",
      "293_F 293_T\n",
      "293_E HEK293\n",
      "293_E 293_T\n",
      "HEK293 293_T\n"
     ]
    }
   ],
   "source": []
  },
  {
   "cell_type": "code",
   "execution_count": 30,
   "metadata": {
    "collapsed": false
   },
   "outputs": [
    {
     "name": "stdout",
     "output_type": "stream",
     "text": [
      "write.table(res_Freestyle293_293_H, file=\"res_Freestyle293_vs_293_H.tsv\")\n",
      "write.table(res_Freestyle293_293_F, file=\"res_Freestyle293_vs_293_F.tsv\")\n",
      "write.table(res_Freestyle293_293_E, file=\"res_Freestyle293_vs_293_E.tsv\")\n",
      "write.table(res_Freestyle293_HEK293, file=\"res_Freestyle293_vs_HEK293.tsv\")\n",
      "write.table(res_Freestyle293_293_T, file=\"res_Freestyle293_vs_293_T.tsv\")\n",
      "write.table(res_293_H_293_F, file=\"res_293_H_vs_293_F.tsv\")\n",
      "write.table(res_293_H_293_E, file=\"res_293_H_vs_293_E.tsv\")\n",
      "write.table(res_293_H_HEK293, file=\"res_293_H_vs_HEK293.tsv\")\n",
      "write.table(res_293_H_293_T, file=\"res_293_H_vs_293_T.tsv\")\n",
      "write.table(res_293_F_293_E, file=\"res_293_F_vs_293_E.tsv\")\n",
      "write.table(res_293_F_HEK293, file=\"res_293_F_vs_HEK293.tsv\")\n",
      "write.table(res_293_F_293_T, file=\"res_293_F_vs_293_T.tsv\")\n",
      "write.table(res_293_E_HEK293, file=\"res_293_E_vs_HEK293.tsv\")\n",
      "write.table(res_293_E_293_T, file=\"res_293_E_vs_293_T.tsv\")\n",
      "write.table(res_HEK293_293_T, file=\"res_HEK293_vs_293_T.tsv\")\n"
     ]
    }
   ],
   "source": [
    "for x,y in combinations(sample_type_list, 2):\n",
    "    print \"write.table(res_%s_%s, file=\\\"res_%s_vs_%s.tsv\\\")\"% (x,y,x,y)"
   ]
  },
  {
   "cell_type": "code",
   "execution_count": null,
   "metadata": {
    "collapsed": true
   },
   "outputs": [],
   "source": []
  },
  {
   "cell_type": "code",
   "execution_count": null,
   "metadata": {
    "collapsed": true
   },
   "outputs": [],
   "source": []
  }
 ],
 "metadata": {
  "kernelspec": {
   "display_name": "Python 2",
   "language": "python",
   "name": "python2"
  },
  "language_info": {
   "codemirror_mode": {
    "name": "ipython",
    "version": 2
   },
   "file_extension": ".py",
   "mimetype": "text/x-python",
   "name": "python",
   "nbconvert_exporter": "python",
   "pygments_lexer": "ipython2",
   "version": "2.7.12"
  }
 },
 "nbformat": 4,
 "nbformat_minor": 0
}
