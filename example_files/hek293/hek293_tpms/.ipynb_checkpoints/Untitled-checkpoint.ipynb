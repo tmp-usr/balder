{
 "cells": [
  {
   "cell_type": "code",
   "execution_count": 1,
   "metadata": {
    "collapsed": true
   },
   "outputs": [],
   "source": [
    "import glob\n",
    "from pandas import *"
   ]
  },
  {
   "cell_type": "code",
   "execution_count": 2,
   "metadata": {
    "collapsed": true
   },
   "outputs": [],
   "source": [
    "import os,sys"
   ]
  },
  {
   "cell_type": "code",
   "execution_count": 3,
   "metadata": {
    "collapsed": true
   },
   "outputs": [],
   "source": [
    "dirs= glob.glob('*')"
   ]
  },
  {
   "cell_type": "code",
   "execution_count": 4,
   "metadata": {
    "collapsed": true
   },
   "outputs": [],
   "source": [
    "import pdb\n",
    "import operator"
   ]
  },
  {
   "cell_type": "code",
   "execution_count": 5,
   "metadata": {
    "collapsed": false
   },
   "outputs": [
    {
     "name": "stdout",
     "output_type": "stream",
     "text": [
      "File Untitled.ipynb/rnaseq.Untitled.ipynb.genes.txt does not exist\n"
     ]
    }
   ],
   "source": [
    "tpms= []\n",
    "\n",
    "for dirname in dirs:\n",
    "    sample_name= dirname.lstrip(\"outputs_\")\n",
    "    tpm_file= os.path.join(dirname, \"rnaseq.%s.genes.txt\" %sample_name)\n",
    "    try:\n",
    "    \n",
    "        df= read_csv(tpm_file, sep=\"\\t\", names= [\"genes\", sample_name])\n",
    "\n",
    "        #df=df.set_index('genes', drop= True)\n",
    "\n",
    "        #pdb.set_trace()\n",
    "\n",
    "        #df.index= apply( df.index , str.split('.'))\n",
    "\n",
    "        indexes= df['genes']\n",
    "        indexes_1= indexes.apply(str.split, args= ('.'))\n",
    "        indexes_2= [i[0] for i in indexes_1]\n",
    "\n",
    "        df['genes']= indexes_2\n",
    "\n",
    "        df= df.groupby('genes').sum()\n",
    "\n",
    "        #pdb.set_trace()\n",
    "        #df= df.set_index(\"genes\", drop= \"True\")\n",
    "\n",
    "        tpms.append(df)\n",
    "    #print sample_name\n",
    "    #print df.head()\n",
    "    except Exception, e:\n",
    "        print e"
   ]
  },
  {
   "cell_type": "code",
   "execution_count": 6,
   "metadata": {
    "collapsed": false
   },
   "outputs": [],
   "source": [
    "#tpms[0].index\n",
    "df_tpms= concat(tpms, axis= 1, join= \"outer\")"
   ]
  },
  {
   "cell_type": "code",
   "execution_count": 7,
   "metadata": {
    "collapsed": true
   },
   "outputs": [],
   "source": [
    "import math\n",
    "import numpy as np"
   ]
  },
  {
   "cell_type": "code",
   "execution_count": 8,
   "metadata": {
    "collapsed": false
   },
   "outputs": [],
   "source": [
    "final_counts= np.ceil(df_tpms).astype(int).head()"
   ]
  },
  {
   "cell_type": "code",
   "execution_count": 9,
   "metadata": {
    "collapsed": false
   },
   "outputs": [
    {
     "data": {
      "text/plain": [
       "Index([u'293_E__1', u'293_E__2', u'293_E__3', u'293_F__1', u'293_F__2',\n",
       "       u'293_F__3', u'293_H__1', u'293_H__2', u'293_H__3', u'293_T__1',\n",
       "       u'293_T__2', u'293_T__3', u'Freestyle293__1', u'Freestyle293__2',\n",
       "       u'Freestyle293__3', u'HEK293__1', u'HEK293__2', u'HEK293__3'],\n",
       "      dtype='object')"
      ]
     },
     "execution_count": 9,
     "metadata": {},
     "output_type": "execute_result"
    }
   ],
   "source": [
    "final_counts.columns"
   ]
  },
  {
   "cell_type": "code",
   "execution_count": 14,
   "metadata": {
    "collapsed": false
   },
   "outputs": [],
   "source": [
    "sample_types=  [item.split('__')[0] for item in final_counts.columns]"
   ]
  },
  {
   "cell_type": "code",
   "execution_count": 15,
   "metadata": {
    "collapsed": true
   },
   "outputs": [],
   "source": [
    "from itertools import combinations"
   ]
  },
  {
   "cell_type": "code",
   "execution_count": 16,
   "metadata": {
    "collapsed": true
   },
   "outputs": [],
   "source": [
    "sample_type_list= list(set(sample_types))"
   ]
  },
  {
   "cell_type": "code",
   "execution_count": null,
   "metadata": {
    "collapsed": true
   },
   "outputs": [],
   "source": []
  },
  {
   "cell_type": "code",
   "execution_count": null,
   "metadata": {
    "collapsed": true
   },
   "outputs": [],
   "source": []
  }
 ],
 "metadata": {
  "kernelspec": {
   "display_name": "Python 2",
   "language": "python",
   "name": "python2"
  },
  "language_info": {
   "codemirror_mode": {
    "name": "ipython",
    "version": 2
   },
   "file_extension": ".py",
   "mimetype": "text/x-python",
   "name": "python",
   "nbconvert_exporter": "python",
   "pygments_lexer": "ipython2",
   "version": "2.7.12"
  }
 },
 "nbformat": 4,
 "nbformat_minor": 0
}
